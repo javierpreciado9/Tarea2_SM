{
 "cells": [
  {
   "cell_type": "markdown",
   "metadata": {},
   "source": [
    "**Resumen 1:** [Programming language of the year? Python is standout in latest rankings]( https://www.zdnet.com/article/programming-language-of-the-year-python-is-standout-in-latest-rankings/)\n",
    "\n",
    "Python ha escalado hasta estar en el Top 3 de los programas de lenguaje en el ranking que hace Tiobe.\n",
    "Python ha ganada 3.62 puntos al año, superando a Visual Basic.net y Java que son los segundos y terceros que mas han ganado puntos. Python entro al top 3 en el ranking de Tiobe en septiembre gracias a sus nuevos campos en enseñanza, es el lenguaje mas enseñado por las univesidades y es el lenguaje de referencia para el análisis estadístico, el aprendizaje automático, las secuencias de comandos, la programación web y la informática científica. Tambien es el lenguaje mas usado por los hackers gracias a la facilidad de entender su sintaxis, por sus tutoriales en línea y por la gran cantidad de software a su disposición. Python 2 dejara de funcionar el 1 de enero de 2020, por lo que tendran que migrar sus proyectos a python 3."
   ]
  },
  {
   "cell_type": "markdown",
   "metadata": {},
   "source": [
    "**Resumen 2:** [Python is becoming the world’s most popular coding language](https://www.economist.com/graphic-detail/2018/07/26/python-is-becoming-the-worlds-most-popular-coding-language)"
   ]
  },
  {
   "cell_type": "code",
   "execution_count": null,
   "metadata": {},
   "outputs": [],
   "source": []
  }
 ],
 "metadata": {
  "kernelspec": {
   "display_name": "Python 3",
   "language": "python",
   "name": "python3"
  },
  "language_info": {
   "codemirror_mode": {
    "name": "ipython",
    "version": 3
   },
   "file_extension": ".py",
   "mimetype": "text/x-python",
   "name": "python",
   "nbconvert_exporter": "python",
   "pygments_lexer": "ipython3",
   "version": "3.7.3"
  }
 },
 "nbformat": 4,
 "nbformat_minor": 2
}
